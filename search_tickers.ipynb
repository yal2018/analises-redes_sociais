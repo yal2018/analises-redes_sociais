{
  "nbformat": 4,
  "nbformat_minor": 0,
  "metadata": {
    "colab": {
      "name": "search_tickers.ipynb",
      "provenance": [],
      "collapsed_sections": [],
      "authorship_tag": "ABX9TyPOdC3GRUx8CrVwLUo9nvIo",
      "include_colab_link": true
    },
    "kernelspec": {
      "name": "python3",
      "display_name": "Python 3"
    },
    "language_info": {
      "name": "python"
    }
  },
  "cells": [
    {
      "cell_type": "markdown",
      "metadata": {
        "id": "view-in-github",
        "colab_type": "text"
      },
      "source": [
        "<a href=\"https://colab.research.google.com/github/yal2018/tecwebsw-redesocial/blob/main/search_tickers.ipynb\" target=\"_parent\"><img src=\"https://colab.research.google.com/assets/colab-badge.svg\" alt=\"Open In Colab\"/></a>"
      ]
    },
    {
      "cell_type": "code",
      "source": [
        "!pip install yfinance"
      ],
      "metadata": {
        "id": "0w0HUqrx65JU"
      },
      "execution_count": null,
      "outputs": []
    },
    {
      "cell_type": "code",
      "source": [
        "import yfinance as yf\n",
        "import datetime as dt\n",
        "import os\n",
        "#import pandas as pd\n",
        "import csv\n"
      ],
      "metadata": {
        "id": "2QfYQb6E7rje"
      },
      "execution_count": null,
      "outputs": []
    },
    {
      "cell_type": "code",
      "execution_count": null,
      "metadata": {
        "id": "HP68TvXU6cCy"
      },
      "outputs": [],
      "source": [
        "def load_Ibovespa_tickers():    \n",
        "    #    tickers - BOVESPA\n",
        "    tickers = [\n",
        "       \n",
        "        \"EMBR3.SA\",\n",
        "        \"PETR4.SA\",\n",
        "        \"UNIP6.SA\",\n",
        "        \"VALE3.SA\",       \n",
        "        \"WEGE3.SA\"]\n",
        "\n",
        "# checked the number of items in our list\n",
        "    start = dt.datetime(2022,1,1)\n",
        "    end = dt.datetime(2022,6,15)\n",
        "   \n",
        "    countStock = 0\n",
        "    for ticker in tickers:     \n",
        "      if ( len(ticker) <= 9 ):\n",
        "        # just in case your connection breaks, we'd like to save our progress!\n",
        "            if not os.path.exists('{}.csv'.format(ticker)):\n",
        "                #print(ticker)\n",
        "                try:\n",
        "                   #\n",
        "                   countStock = countStock + 1\n",
        "                   #\n",
        "                   # start, end => you can change\n",
        "                   df = yf.download(ticker, start, end)\n",
        "                   #\n",
        "                   # remove .SA in the filename\n",
        "                   print(\"ticker\",ticker)\n",
        "                   filename = ticker.split(\".\")\n",
        "                   print(\"filename\", filename[0])\n",
        "                   file = filename[0]\n",
        "                   print(\"file\", file)\n",
        "                   df.to_csv('{}.csv'.format(file))\n",
        "          \n",
        "                except IOError:\n",
        "                    print(\"=====error\")\n",
        "                    # e can be printed directly without using .args:\n",
        "                    # print(e\n",
        "                    continue\n",
        "                except:\n",
        "                    print(\"Unexpected error:\")\n",
        "                    continue\n",
        "            else:\n",
        "                print('Already have {}'.format(ticker))\n",
        "\n",
        "    print(\"count stock=\", countStock)\n",
        "load_Ibovespa_tickers()\n"
      ]
    },
    {
      "cell_type": "code",
      "source": [
        "import pandas as pd\n",
        "import matplotlib.pyplot as plt\n",
        "#definir o dataset(embr3)\n",
        "df = pd.read_csv('EMBR3.csv', parse_dates=True, index_col=0)\n",
        "#preços de fechamento\n",
        "df['Close'].plot(grid=True)\n",
        "#eixos\n",
        "plt.xlabel('Data')\n",
        "plt.ylabel('Preços')\n",
        "name=\"EMBR3\"\n",
        "plt.title('{}'.format(name))\n",
        "plt.show()"
      ],
      "metadata": {
        "id": "vNvYJdpzo-FI"
      },
      "execution_count": null,
      "outputs": []
    }
  ]
}