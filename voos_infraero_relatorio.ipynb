{
  "nbformat": 4,
  "nbformat_minor": 0,
  "metadata": {
    "colab": {
      "name": "voos_infraero_relatorio.ipynb",
      "provenance": [],
      "authorship_tag": "ABX9TyN1AjbYLjPJYoHs+ieIVGm0",
      "include_colab_link": true
    },
    "kernelspec": {
      "name": "python3",
      "display_name": "Python 3"
    },
    "language_info": {
      "name": "python"
    }
  },
  "cells": [
    {
      "cell_type": "markdown",
      "metadata": {
        "id": "view-in-github",
        "colab_type": "text"
      },
      "source": [
        "<a href=\"https://colab.research.google.com/github/yal2018/analises-redes_sociais/blob/main/voos_infraero_relatorio.ipynb\" target=\"_parent\"><img src=\"https://colab.research.google.com/assets/colab-badge.svg\" alt=\"Open In Colab\"/></a>"
      ]
    },
    {
      "cell_type": "code",
      "execution_count": 9,
      "metadata": {
        "id": "naPAuXSoio3T"
      },
      "outputs": [],
      "source": [
        "# Import libraries\n",
        "import requests\n",
        "from bs4 import BeautifulSoup\n",
        "import pandas as pd\n",
        "import numpy as np\n",
        "import requests\n",
        "from time import sleep"
      ]
    },
    {
      "cell_type": "code",
      "source": [
        "# Collect first page of flights list\n",
        "page = requests.get('http://voos.infraero.gov.br/hstvoos/RelatorioPortal.aspx')\n",
        "\n",
        "soup = BeautifulSoup(page.text, 'html.parser')"
      ],
      "metadata": {
        "id": "S3Ym8YIujCjc"
      },
      "execution_count": 10,
      "outputs": []
    },
    {
      "cell_type": "code",
      "source": [
        "rows = []\n",
        "for child in soup.find_all('table')[0].children:\n",
        "        row = []\n",
        "        for td in child:\n",
        "            try:\n",
        "                row.append(td.text.replace('\\n', ''))\n",
        "            except:\n",
        "                continue\n",
        "        if len(row) > 0:\n",
        "            rows.append(row)"
      ],
      "metadata": {
        "id": "aGWiTTpQjFVb"
      },
      "execution_count": 11,
      "outputs": []
    },
    {
      "cell_type": "code",
      "source": [
        "df = pd.DataFrame(rows[1:], columns=rows[0])\n",
        "print(df)\n",
        "df.to_csv('./voos_relatorio.csv', index=False)"
      ],
      "metadata": {
        "colab": {
          "base_uri": "https://localhost:8080/"
        },
        "id": "LqMfDbnLjyJF",
        "outputId": "dafcdcd2-4840-4a5f-ab8e-576fb9e1286e"
      },
      "execution_count": 12,
      "outputs": [
        {
          "output_type": "stream",
          "name": "stdout",
          "text": [
            "                     PROGRAMADOS Nº VOOS ATRASADOS (%)  \\\n",
            "0                         TOTAIS     538      38(7.1%)   \n",
            "1                    Altamira-PA       1         0(0%)   \n",
            "2                     Aracaju-SE       7      3(42.9%)   \n",
            "3                       Belém-PA      22         0(0%)   \n",
            "4                   Boa Vista-RR       4         0(0%)   \n",
            "5              Campina Grande-PB       3         0(0%)   \n",
            "6                Campo Grande-MS      11      2(18.2%)   \n",
            "7                     Carajás-PA       1         0(0%)   \n",
            "8                      Cuiabá-MT      19         0(0%)   \n",
            "9                    Curitiba-PR      42       3(7.1%)   \n",
            "10              Foz Do Iguaçu-PR       9      1(11.1%)   \n",
            "11                    Goiânia-GO      22         0(0%)   \n",
            "12                 Imperatriz-MA       3         0(0%)   \n",
            "13                   Ipatinga-MG       2         0(0%)   \n",
            "14                Joao Pessoa-PB       9      2(22.2%)   \n",
            "15                  Joinville-SC       3         0(0%)   \n",
            "16          Juazeiro Do Norte-CE       6         0(0%)   \n",
            "17                   Londrina-PR       8      1(12.5%)   \n",
            "18                     Macapá-AP       2         0(0%)   \n",
            "19                     Maceió-AL      13       1(7.7%)   \n",
            "20                     Manaus-AM      17      2(11.8%)   \n",
            "21                     Marabá-PA       2         0(0%)   \n",
            "22              Montes Claros-MG       4         0(0%)   \n",
            "23                 Navegantes-SC      13         0(0%)   \n",
            "24                     Palmas-TO       3         0(0%)   \n",
            "25                    Pelotas-RS       1         0(0%)   \n",
            "26                  Petrolina-PE       5        1(20%)   \n",
            "27              Porto Velho - RO       5         0(0%)   \n",
            "28                     Recife-PE      52       3(5.8%)   \n",
            "29                 Rio Branco-AC       2        1(50%)   \n",
            "30  Rio de Janeiro - S.Dumont-RJ      83       8(9.6%)   \n",
            "31                   Santarém-PA       5         0(0%)   \n",
            "32                   Sao Luis-MA      10         0(0%)   \n",
            "33      Sao Paulo - Congonhas-SP     126       9(7.1%)   \n",
            "34                  Tabatinga-AM       1         0(0%)   \n",
            "35                       Tefé-AM       1       1(100%)   \n",
            "36                   Teresina-PI      10         0(0%)   \n",
            "37                    Uberaba-MG       2         0(0%)   \n",
            "38                 Uberlândia-MG       8         0(0%)   \n",
            "39                 Uruguaiana-RS       1         0(0%)   \n",
            "\n",
            "   ATRASADOS NO MOMENTO (%) CANCELADOS  (%)  \n",
            "0                   3(0.6%)         3(0.6%)  \n",
            "1                     0(0%)           0(0%)  \n",
            "2                     0(0%)           0(0%)  \n",
            "3                     0(0%)           0(0%)  \n",
            "4                     0(0%)           0(0%)  \n",
            "5                     0(0%)           0(0%)  \n",
            "6                   1(9.1%)           0(0%)  \n",
            "7                     0(0%)           0(0%)  \n",
            "8                     0(0%)           0(0%)  \n",
            "9                     0(0%)           0(0%)  \n",
            "10                    0(0%)           0(0%)  \n",
            "11                    0(0%)           0(0%)  \n",
            "12                    0(0%)           0(0%)  \n",
            "13                    0(0%)           0(0%)  \n",
            "14                    0(0%)           0(0%)  \n",
            "15                    0(0%)           0(0%)  \n",
            "16                    0(0%)           0(0%)  \n",
            "17                    0(0%)           0(0%)  \n",
            "18                    0(0%)           0(0%)  \n",
            "19                    0(0%)         1(7.7%)  \n",
            "20                    0(0%)           0(0%)  \n",
            "21                    0(0%)           0(0%)  \n",
            "22                    0(0%)           0(0%)  \n",
            "23                    0(0%)           0(0%)  \n",
            "24                    0(0%)           0(0%)  \n",
            "25                    0(0%)           0(0%)  \n",
            "26                    0(0%)           0(0%)  \n",
            "27                    0(0%)           0(0%)  \n",
            "28                  1(1.9%)         1(1.9%)  \n",
            "29                    0(0%)           0(0%)  \n",
            "30                  1(1.2%)           0(0%)  \n",
            "31                    0(0%)           0(0%)  \n",
            "32                    0(0%)           0(0%)  \n",
            "33                    0(0%)         1(0.8%)  \n",
            "34                    0(0%)           0(0%)  \n",
            "35                    0(0%)           0(0%)  \n",
            "36                    0(0%)           0(0%)  \n",
            "37                    0(0%)           0(0%)  \n",
            "38                    0(0%)           0(0%)  \n",
            "39                    0(0%)           0(0%)  \n"
          ]
        }
      ]
    }
  ]
}